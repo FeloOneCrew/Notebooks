{
 "cells": [
  {
   "cell_type": "markdown",
   "id": "3d30ad46",
   "metadata": {},
   "source": [
    "Suma en notebooks\n"
   ]
  },
  {
   "cell_type": "code",
   "execution_count": 1,
   "id": "964eec3a",
   "metadata": {
    "scrolled": true
   },
   "outputs": [
    {
     "data": {
      "text/plain": [
       "2"
      ]
     },
     "execution_count": 1,
     "metadata": {},
     "output_type": "execute_result"
    }
   ],
   "source": [
    "1+1"
   ]
  },
  {
   "cell_type": "markdown",
   "id": "26ce313d",
   "metadata": {},
   "source": [
    "# Titulo"
   ]
  },
  {
   "cell_type": "markdown",
   "id": "0e434ec2",
   "metadata": {},
   "source": [
    "el titulo se inicia con un \"#\" espacio y la palabra"
   ]
  },
  {
   "cell_type": "markdown",
   "id": "5a466b8e",
   "metadata": {},
   "source": [
    "## Subtitulo\n"
   ]
  },
  {
   "cell_type": "markdown",
   "id": "d99600d3",
   "metadata": {},
   "source": [
    "el subtitulo se inicia con un \"##\" espacio y la palabra"
   ]
  },
  {
   "cell_type": "markdown",
   "id": "df745a07",
   "metadata": {},
   "source": [
    "## Imprimir CÓDIGO\n"
   ]
  },
  {
   "cell_type": "code",
   "execution_count": 3,
   "id": "8d74bc99",
   "metadata": {},
   "outputs": [],
   "source": [
    "X=\"felo one crew\""
   ]
  },
  {
   "cell_type": "code",
   "execution_count": 5,
   "id": "c1d8d6b0",
   "metadata": {},
   "outputs": [
    {
     "name": "stdout",
     "output_type": "stream",
     "text": [
      "felo one crew\n"
     ]
    }
   ],
   "source": [
    "print(X)"
   ]
  },
  {
   "cell_type": "markdown",
   "id": "6908032b",
   "metadata": {},
   "source": [
    "## Hacer Tablas"
   ]
  },
  {
   "cell_type": "code",
   "execution_count": 11,
   "id": "7ffef717",
   "metadata": {},
   "outputs": [
    {
     "data": {
      "text/html": [
       "<div>\n",
       "<style scoped>\n",
       "    .dataframe tbody tr th:only-of-type {\n",
       "        vertical-align: middle;\n",
       "    }\n",
       "\n",
       "    .dataframe tbody tr th {\n",
       "        vertical-align: top;\n",
       "    }\n",
       "\n",
       "    .dataframe thead th {\n",
       "        text-align: right;\n",
       "    }\n",
       "</style>\n",
       "<table border=\"1\" class=\"dataframe\">\n",
       "  <thead>\n",
       "    <tr style=\"text-align: right;\">\n",
       "      <th></th>\n",
       "      <th>Numero</th>\n",
       "      <th>cuadrado</th>\n",
       "    </tr>\n",
       "  </thead>\n",
       "  <tbody>\n",
       "    <tr>\n",
       "      <th>0</th>\n",
       "      <td>1</td>\n",
       "      <td>1</td>\n",
       "    </tr>\n",
       "    <tr>\n",
       "      <th>1</th>\n",
       "      <td>2</td>\n",
       "      <td>3</td>\n",
       "    </tr>\n",
       "    <tr>\n",
       "      <th>2</th>\n",
       "      <td>5</td>\n",
       "      <td>3</td>\n",
       "    </tr>\n",
       "  </tbody>\n",
       "</table>\n",
       "</div>"
      ],
      "text/plain": [
       "   Numero  cuadrado\n",
       "0       1         1\n",
       "1       2         3\n",
       "2       5         3"
      ]
     },
     "execution_count": 11,
     "metadata": {},
     "output_type": "execute_result"
    }
   ],
   "source": [
    "import pandas as pd\n",
    "\n",
    "tabla= pd.DataFrame(data =[[1,1],[2,3],[5,3]],\n",
    "                    \n",
    "                    columns = ['Numero', 'cuadrado'])\n",
    "tabla"
   ]
  },
  {
   "cell_type": "code",
   "execution_count": null,
   "id": "d55d391e",
   "metadata": {},
   "outputs": [],
   "source": []
  }
 ],
 "metadata": {
  "kernelspec": {
   "display_name": "Python 3",
   "language": "python",
   "name": "python3"
  },
  "language_info": {
   "codemirror_mode": {
    "name": "ipython",
    "version": 3
   },
   "file_extension": ".py",
   "mimetype": "text/x-python",
   "name": "python",
   "nbconvert_exporter": "python",
   "pygments_lexer": "ipython3",
   "version": "3.8.8"
  }
 },
 "nbformat": 4,
 "nbformat_minor": 5
}
