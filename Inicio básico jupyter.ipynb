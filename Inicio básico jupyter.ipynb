{
 "cells": [
  {
   "cell_type": "markdown",
   "id": "cb8c2af8",
   "metadata": {},
   "source": [
    "Suma en notebooks\n"
   ]
  },
  {
   "cell_type": "code",
   "execution_count": 1,
   "id": "964eec3a",
   "metadata": {
    "scrolled": true
   },
   "outputs": [
    {
     "data": {
      "text/plain": [
       "2"
      ]
     },
     "execution_count": 1,
     "metadata": {},
     "output_type": "execute_result"
    }
   ],
   "source": [
    "1+1"
   ]
  },
  {
   "cell_type": "markdown",
   "id": "a13e09e3",
   "metadata": {},
   "source": [
    "# Titulo"
   ]
  },
  {
   "cell_type": "markdown",
   "id": "a833e78e",
   "metadata": {},
   "source": [
    "el titulo se inicia con un \"#\" espacio y la palabra"
   ]
  },
  {
   "cell_type": "markdown",
   "id": "fccb3a83",
   "metadata": {},
   "source": [
    "## Subtitulo\n"
   ]
  },
  {
   "cell_type": "markdown",
   "id": "3bbd6464",
   "metadata": {},
   "source": [
    "el subtitulo se inicia con un \"##\" espacio y la palabra"
   ]
  },
  {
   "cell_type": "code",
   "execution_count": null,
   "id": "82cdcc3d",
   "metadata": {},
   "outputs": [],
   "source": []
  }
 ],
 "metadata": {
  "kernelspec": {
   "display_name": "Python 3",
   "language": "python",
   "name": "python3"
  },
  "language_info": {
   "codemirror_mode": {
    "name": "ipython",
    "version": 3
   },
   "file_extension": ".py",
   "mimetype": "text/x-python",
   "name": "python",
   "nbconvert_exporter": "python",
   "pygments_lexer": "ipython3",
   "version": "3.8.8"
  }
 },
 "nbformat": 4,
 "nbformat_minor": 5
}
